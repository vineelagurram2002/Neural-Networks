{
  "nbformat": 4,
  "nbformat_minor": 0,
  "metadata": {
    "colab": {
      "provenance": [],
      "authorship_tag": "ABX9TyNt7D45QMz7ivZnLMtVwEjt",
      "include_colab_link": true
    },
    "kernelspec": {
      "name": "python3",
      "display_name": "Python 3"
    },
    "language_info": {
      "name": "python"
    }
  },
  "cells": [
    {
      "cell_type": "markdown",
      "metadata": {
        "id": "view-in-github",
        "colab_type": "text"
      },
      "source": [
        "<a href=\"https://colab.research.google.com/github/vineelagurram2002/Neural-Networks/blob/main/Vineela_Gurram_700757960_.ICP2.ipynb\" target=\"_parent\"><img src=\"https://colab.research.google.com/assets/colab-badge.svg\" alt=\"Open In Colab\"/></a>"
      ]
    },
    {
      "cell_type": "code",
      "execution_count": 1,
      "metadata": {
        "colab": {
          "base_uri": "https://localhost:8080/"
        },
        "id": "R_m1Vvp2ukrx",
        "outputId": "fe85b149-79be-450f-819f-d037a1f365b5"
      },
      "outputs": [
        {
          "output_type": "stream",
          "name": "stdout",
          "text": [
            "Total number of employees: 3\n",
            "Average salary of employees: $55000.00\n",
            "Employee 1: John Doe, Doe Family, 50000, HR\n",
            "Employee 2: Jane Smith, Smith Family, 60000, Finance\n",
            "Employee 3: Emily Davis, Davis Family, 55000, IT\n"
          ]
        }
      ],
      "source": [
        "class Employee:\n",
        "    # Class variable to count the number of Employees\n",
        "    employee_count = 0\n",
        "    total_salary = 0\n",
        "\n",
        "    def __init__(self, name, family, salary, department):\n",
        "        # Instance variables\n",
        "        self.name = name\n",
        "        self.family = family\n",
        "        self.salary = salary\n",
        "        self.department = department\n",
        "\n",
        "        # Update the class variables\n",
        "        Employee.employee_count += 1\n",
        "        Employee.total_salary += salary\n",
        "\n",
        "    # Function to calculate the average salary of all employees\n",
        "    @classmethod\n",
        "    def average_salary(cls):\n",
        "        if cls.employee_count == 0:\n",
        "            return 0\n",
        "        return cls.total_salary / cls.employee_count\n",
        "\n",
        "class FulltimeEmployee(Employee):\n",
        "    def __init__(self, name, family, salary, department):\n",
        "        # Initialize the FulltimeEmployee instance using the parent class constructor\n",
        "        super().__init__(name, family, salary, department)\n",
        "\n",
        "\n",
        "# Creating instances of Employee and FulltimeEmployee\n",
        "emp1 = Employee(\"John Doe\", \"Doe Family\", 50000, \"HR\")\n",
        "emp2 = FulltimeEmployee(\"Jane Smith\", \"Smith Family\", 60000, \"Finance\")\n",
        "emp3 = FulltimeEmployee(\"Emily Davis\", \"Davis Family\", 55000, \"IT\")\n",
        "\n",
        "# Printing the number of employees\n",
        "print(f\"Total number of employees: {Employee.employee_count}\")\n",
        "\n",
        "# Calculating and printing the average salary of employees\n",
        "print(f\"Average salary of employees: ${Employee.average_salary():.2f}\")\n",
        "\n",
        "# Accessing individual employee details\n",
        "print(f\"Employee 1: {emp1.name}, {emp1.family}, {emp1.salary}, {emp1.department}\")\n",
        "print(f\"Employee 2: {emp2.name}, {emp2.family}, {emp2.salary}, {emp2.department}\")\n",
        "print(f\"Employee 3: {emp3.name}, {emp3.family}, {emp3.salary}, {emp3.department}\")\n"
      ]
    },
    {
      "cell_type": "code",
      "source": [
        "import numpy as np\n",
        "\n",
        "# Step 1: Create a random vector of size 20 with floats in the range 1-20\n",
        "random_vector = np.random.uniform(1, 20, 20)\n",
        "\n",
        "# Step 2: Reshape the vector to a 4x5 array\n",
        "reshaped_array = random_vector.reshape(4, 5)\n",
        "\n",
        "# Step 3: Replace the maximum value in each row by 0\n",
        "# The np.argmax function is used to find the index of the maximum element along the specified axis.\n",
        "reshaped_array[np.arange(reshaped_array.shape[0]), reshaped_array.argmax(axis=1)] = 0\n",
        "\n",
        "# Output the final array\n",
        "print(\"Original reshaped array:\\n\", random_vector.reshape(4, 5))\n",
        "print(\"\\nArray after replacing the max in each row with 0:\\n\", reshaped_array)\n"
      ],
      "metadata": {
        "colab": {
          "base_uri": "https://localhost:8080/"
        },
        "id": "LbchBneWusA7",
        "outputId": "3d9bcd6d-ea22-4f99-c343-7db4cf605977"
      },
      "execution_count": 2,
      "outputs": [
        {
          "output_type": "stream",
          "name": "stdout",
          "text": [
            "Original reshaped array:\n",
            " [[ 9.74876818  0.         14.85365994  4.31549366  3.61596561]\n",
            " [ 9.84110371  0.          8.07990008  4.56931492  1.67720932]\n",
            " [13.77560967 10.12131026 12.44180072 11.0641505   0.        ]\n",
            " [14.42296042  0.          5.68872114  9.3422319   4.74066403]]\n",
            "\n",
            "Array after replacing the max in each row with 0:\n",
            " [[ 9.74876818  0.         14.85365994  4.31549366  3.61596561]\n",
            " [ 9.84110371  0.          8.07990008  4.56931492  1.67720932]\n",
            " [13.77560967 10.12131026 12.44180072 11.0641505   0.        ]\n",
            " [14.42296042  0.          5.68872114  9.3422319   4.74066403]]\n"
          ]
        }
      ]
    }
  ]
}